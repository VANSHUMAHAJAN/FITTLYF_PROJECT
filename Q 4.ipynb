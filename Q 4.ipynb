{
 "cells": [
  {
   "cell_type": "code",
   "execution_count": 1,
   "id": "618eb530",
   "metadata": {},
   "outputs": [],
   "source": [
    "import pandas as pd"
   ]
  },
  {
   "cell_type": "code",
   "execution_count": 26,
   "id": "596d1d2f",
   "metadata": {},
   "outputs": [],
   "source": [
    "df=pd.DataFrame(columns=[['LEVEL 2/LEVEL 1','LEVEL 3/LEVEL 2','LEVEL 4/LEVEL 3','LEVEL 5/LEVEL 4',]])"
   ]
  },
  {
   "cell_type": "code",
   "execution_count": 27,
   "id": "63cde988",
   "metadata": {},
   "outputs": [
    {
     "data": {
      "text/html": [
       "<div>\n",
       "<style scoped>\n",
       "    .dataframe tbody tr th:only-of-type {\n",
       "        vertical-align: middle;\n",
       "    }\n",
       "\n",
       "    .dataframe tbody tr th {\n",
       "        vertical-align: top;\n",
       "    }\n",
       "\n",
       "    .dataframe thead tr th {\n",
       "        text-align: left;\n",
       "    }\n",
       "</style>\n",
       "<table border=\"1\" class=\"dataframe\">\n",
       "  <thead>\n",
       "    <tr>\n",
       "      <th></th>\n",
       "      <th>LEVEL 2/LEVEL 1</th>\n",
       "      <th>LEVEL 3/LEVEL 2</th>\n",
       "      <th>LEVEL 4/LEVEL 3</th>\n",
       "      <th>LEVEL 5/LEVEL 4</th>\n",
       "    </tr>\n",
       "  </thead>\n",
       "  <tbody>\n",
       "  </tbody>\n",
       "</table>\n",
       "</div>"
      ],
      "text/plain": [
       "Empty DataFrame\n",
       "Columns: [(LEVEL 2/LEVEL 1,), (LEVEL 3/LEVEL 2,), (LEVEL 4/LEVEL 3,), (LEVEL 5/LEVEL 4,)]\n",
       "Index: []"
      ]
     },
     "execution_count": 27,
     "metadata": {},
     "output_type": "execute_result"
    }
   ],
   "source": [
    "df"
   ]
  },
  {
   "cell_type": "code",
   "execution_count": 28,
   "id": "923731fa",
   "metadata": {},
   "outputs": [],
   "source": [
    "def create_rows(name,a,b,c,d):\n",
    "    \n",
    "    df.loc[len(df.index)] = [a,b,c,d] \n",
    "    df.rename(index={len(df)-1: name},inplace=True)\n",
    "    \n",
    "    return df"
   ]
  },
  {
   "cell_type": "code",
   "execution_count": 30,
   "id": "1d686329",
   "metadata": {},
   "outputs": [
    {
     "data": {
      "text/html": [
       "<div>\n",
       "<style scoped>\n",
       "    .dataframe tbody tr th:only-of-type {\n",
       "        vertical-align: middle;\n",
       "    }\n",
       "\n",
       "    .dataframe tbody tr th {\n",
       "        vertical-align: top;\n",
       "    }\n",
       "\n",
       "    .dataframe thead tr th {\n",
       "        text-align: left;\n",
       "    }\n",
       "</style>\n",
       "<table border=\"1\" class=\"dataframe\">\n",
       "  <thead>\n",
       "    <tr>\n",
       "      <th></th>\n",
       "      <th>LEVEL 2/LEVEL 1</th>\n",
       "      <th>LEVEL 3/LEVEL 2</th>\n",
       "      <th>LEVEL 4/LEVEL 3</th>\n",
       "      <th>LEVEL 5/LEVEL 4</th>\n",
       "    </tr>\n",
       "  </thead>\n",
       "  <tbody>\n",
       "    <tr>\n",
       "      <th>www.chrome.com</th>\n",
       "      <td>1</td>\n",
       "      <td>2</td>\n",
       "      <td>3</td>\n",
       "      <td>4</td>\n",
       "    </tr>\n",
       "    <tr>\n",
       "      <th>www.websyer.com</th>\n",
       "      <td>2</td>\n",
       "      <td>3</td>\n",
       "      <td>4</td>\n",
       "      <td>5</td>\n",
       "    </tr>\n",
       "  </tbody>\n",
       "</table>\n",
       "</div>"
      ],
      "text/plain": [
       "                LEVEL 2/LEVEL 1 LEVEL 3/LEVEL 2 LEVEL 4/LEVEL 3  \\\n",
       "www.chrome.com                1               2               3   \n",
       "www.websyer.com               2               3               4   \n",
       "\n",
       "                LEVEL 5/LEVEL 4  \n",
       "www.chrome.com                4  \n",
       "www.websyer.com               5  "
      ]
     },
     "execution_count": 30,
     "metadata": {},
     "output_type": "execute_result"
    }
   ],
   "source": [
    "create_rows('www.websyer.com',2,3,4,5)"
   ]
  },
  {
   "cell_type": "code",
   "execution_count": null,
   "id": "458a5115",
   "metadata": {},
   "outputs": [],
   "source": []
  }
 ],
 "metadata": {
  "kernelspec": {
   "display_name": "Python 3 (ipykernel)",
   "language": "python",
   "name": "python3"
  },
  "language_info": {
   "codemirror_mode": {
    "name": "ipython",
    "version": 3
   },
   "file_extension": ".py",
   "mimetype": "text/x-python",
   "name": "python",
   "nbconvert_exporter": "python",
   "pygments_lexer": "ipython3",
   "version": "3.9.7"
  }
 },
 "nbformat": 4,
 "nbformat_minor": 5
}
