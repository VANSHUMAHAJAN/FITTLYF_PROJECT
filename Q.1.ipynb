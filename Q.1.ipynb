{
 "cells": [
  {
   "cell_type": "code",
   "execution_count": 2,
   "id": "f1450491",
   "metadata": {},
   "outputs": [],
   "source": [
    "import pandas as pd"
   ]
  },
  {
   "cell_type": "code",
   "execution_count": 39,
   "id": "595c9059",
   "metadata": {},
   "outputs": [],
   "source": [
    "import numpy as np"
   ]
  },
  {
   "cell_type": "code",
   "execution_count": 188,
   "id": "254edf90",
   "metadata": {},
   "outputs": [],
   "source": [
    "import math"
   ]
  },
  {
   "cell_type": "code",
   "execution_count": 189,
   "id": "19632ef8",
   "metadata": {},
   "outputs": [],
   "source": [
    "import seaborn as sns"
   ]
  },
  {
   "cell_type": "code",
   "execution_count": 3,
   "id": "c1b800db",
   "metadata": {},
   "outputs": [],
   "source": [
    "df=pd.read_csv('fico.csv')"
   ]
  },
  {
   "cell_type": "code",
   "execution_count": 89,
   "id": "fc66019a",
   "metadata": {},
   "outputs": [],
   "source": [
    "df_new=df.copy()"
   ]
  },
  {
   "cell_type": "markdown",
   "id": "03597631",
   "metadata": {},
   "source": [
    "FILTERING USELESS VALUES"
   ]
  },
  {
   "cell_type": "code",
   "execution_count": 92,
   "id": "d44f31d8",
   "metadata": {},
   "outputs": [],
   "source": [
    "def filter(num):\n",
    "    try:\n",
    "        int(num)\n",
    "        return num\n",
    "        \n",
    "    except:\n",
    "        return 'MISSING'\n",
    "        "
   ]
  },
  {
   "cell_type": "code",
   "execution_count": 96,
   "id": "3797d845",
   "metadata": {},
   "outputs": [],
   "source": [
    "df_new['FICO']=df_new['FICO'].apply(filter)"
   ]
  },
  {
   "cell_type": "code",
   "execution_count": 100,
   "id": "ff2be623",
   "metadata": {},
   "outputs": [],
   "source": [
    "df_new=df_new.drop('acct_id',axis=1)"
   ]
  },
  {
   "cell_type": "markdown",
   "id": "bfff80e4",
   "metadata": {},
   "source": [
    "FINDING MIN AND MAX VALUES IN FICO COLUMN"
   ]
  },
  {
   "cell_type": "code",
   "execution_count": 163,
   "id": "a4248b24",
   "metadata": {},
   "outputs": [],
   "source": [
    "def filter_for_min_max(num):\n",
    "    try:\n",
    "        int(num)\n",
    "        return num\n",
    "        \n",
    "    except:\n",
    "        return None\n",
    "        "
   ]
  },
  {
   "cell_type": "code",
   "execution_count": 172,
   "id": "f2edf2cb",
   "metadata": {},
   "outputs": [],
   "source": [
    "minimum_value=df[df['FICO'].apply(filter_for_min_max).notnull()]['FICO'].astype(int).min()"
   ]
  },
  {
   "cell_type": "code",
   "execution_count": 173,
   "id": "c6e1c5c9",
   "metadata": {},
   "outputs": [
    {
     "data": {
      "text/plain": [
       "420"
      ]
     },
     "execution_count": 173,
     "metadata": {},
     "output_type": "execute_result"
    }
   ],
   "source": [
    "minimum_value"
   ]
  },
  {
   "cell_type": "code",
   "execution_count": 177,
   "id": "2dc16836",
   "metadata": {},
   "outputs": [],
   "source": [
    "maximum_value=df[df['FICO'].apply(filter_for_min_max).notnull()]['FICO'].astype(int).max()"
   ]
  },
  {
   "cell_type": "code",
   "execution_count": 178,
   "id": "61d80af0",
   "metadata": {},
   "outputs": [
    {
     "data": {
      "text/plain": [
       "850"
      ]
     },
     "execution_count": 178,
     "metadata": {},
     "output_type": "execute_result"
    }
   ],
   "source": [
    "maximum_value"
   ]
  },
  {
   "cell_type": "markdown",
   "id": "5886a8a6",
   "metadata": {},
   "source": [
    "DIVIDING FICO SCORE INTO 5 PARTS"
   ]
  },
  {
   "cell_type": "code",
   "execution_count": 182,
   "id": "e8a955de",
   "metadata": {},
   "outputs": [],
   "source": [
    "def dividing_into_parts(num):\n",
    "    \n",
    "    try:\n",
    "        \n",
    "        return (int((int(num)/100))-3)\n",
    "    except:\n",
    "        \n",
    "        return num\n",
    "    "
   ]
  },
  {
   "cell_type": "code",
   "execution_count": 186,
   "id": "1e4fe1a7",
   "metadata": {},
   "outputs": [],
   "source": [
    "df_new['GROUPED_FICO']=df_new['FICO'].apply(dividing_into_parts)"
   ]
  },
  {
   "cell_type": "code",
   "execution_count": 196,
   "id": "c79732ae",
   "metadata": {},
   "outputs": [
    {
     "name": "stderr",
     "output_type": "stream",
     "text": [
      "C:\\anaconda_latest\\lib\\site-packages\\seaborn\\_decorators.py:36: FutureWarning: Pass the following variable as a keyword arg: x. From version 0.12, the only valid positional argument will be `data`, and passing other arguments without an explicit keyword will result in an error or misinterpretation.\n",
      "  warnings.warn(\n"
     ]
    },
    {
     "data": {
      "text/plain": [
       "<AxesSubplot:xlabel='GROUPED_FICO', ylabel='count'>"
      ]
     },
     "execution_count": 196,
     "metadata": {},
     "output_type": "execute_result"
    },
    {
     "data": {
      "image/png": "[encoded data removed]",
      "text/plain": [
       "<Figure size 432x288 with 1 Axes>"
      ]
     },
     "metadata": {
      "needs_background": "light"
     },
     "output_type": "display_data"
    }
   ],
   "source": [
    "sns.countplot(df_new['GROUPED_FICO'])"
   ]
  },
  {
   "cell_type": "markdown",
   "id": "9e7b4d37",
   "metadata": {},
   "source": [
    "I have found that a large percentage of the people have high FICO score with max number of people in category 5 and least in category 1. Moreover there is constant steep decline in FICO score as we move from category 5 to category 1. "
   ]
  },
  {
   "cell_type": "code",
   "execution_count": null,
   "id": "320f093f",
   "metadata": {},
   "outputs": [],
   "source": []
  },
  {
   "cell_type": "code",
   "execution_count": null,
   "id": "404ca585",
   "metadata": {},
   "outputs": [],
   "source": []
  },
  {
   "cell_type": "code",
   "execution_count": null,
   "id": "b7b2ba26",
   "metadata": {},
   "outputs": [],
   "source": []
  },
  {
   "cell_type": "code",
   "execution_count": null,
   "id": "b466a9f0",
   "metadata": {},
   "outputs": [],
   "source": []
  }
 ],
 "metadata": {
  "kernelspec": {
   "display_name": "Python 3 (ipykernel)",
   "language": "python",
   "name": "python3"
  },
  "language_info": {
   "codemirror_mode": {
    "name": "ipython",
    "version": 3
   },
   "file_extension": ".py",
   "mimetype": "text/x-python",
   "name": "python",
   "nbconvert_exporter": "python",
   "pygments_lexer": "ipython3",
   "version": "3.9.7"
  }
 },
 "nbformat": 4,
 "nbformat_minor": 5
}
