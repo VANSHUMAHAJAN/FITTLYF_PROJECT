{
 "cells": [
  {
   "cell_type": "code",
   "execution_count": 2,
   "id": "24ae2859",
   "metadata": {},
   "outputs": [],
   "source": [
    "import pandas as pd"
   ]
  },
  {
   "cell_type": "code",
   "execution_count": 5,
   "id": "267cad08",
   "metadata": {},
   "outputs": [],
   "source": [
    "df_1=pd.read_csv('Region.csv')"
   ]
  },
  {
   "cell_type": "code",
   "execution_count": 6,
   "id": "e680b524",
   "metadata": {},
   "outputs": [
    {
     "data": {
      "text/html": [
       "<div>\n",
       "<style scoped>\n",
       "    .dataframe tbody tr th:only-of-type {\n",
       "        vertical-align: middle;\n",
       "    }\n",
       "\n",
       "    .dataframe tbody tr th {\n",
       "        vertical-align: top;\n",
       "    }\n",
       "\n",
       "    .dataframe thead th {\n",
       "        text-align: right;\n",
       "    }\n",
       "</style>\n",
       "<table border=\"1\" class=\"dataframe\">\n",
       "  <thead>\n",
       "    <tr style=\"text-align: right;\">\n",
       "      <th></th>\n",
       "      <th>acct_id</th>\n",
       "      <th>region</th>\n",
       "    </tr>\n",
       "  </thead>\n",
       "  <tbody>\n",
       "    <tr>\n",
       "      <th>0</th>\n",
       "      <td>1</td>\n",
       "      <td>New York</td>\n",
       "    </tr>\n",
       "    <tr>\n",
       "      <th>1</th>\n",
       "      <td>2</td>\n",
       "      <td>Dallas</td>\n",
       "    </tr>\n",
       "    <tr>\n",
       "      <th>2</th>\n",
       "      <td>3</td>\n",
       "      <td>Los Angeles</td>\n",
       "    </tr>\n",
       "    <tr>\n",
       "      <th>3</th>\n",
       "      <td>4</td>\n",
       "      <td>Chicago</td>\n",
       "    </tr>\n",
       "    <tr>\n",
       "      <th>4</th>\n",
       "      <td>5</td>\n",
       "      <td>Philadelphia</td>\n",
       "    </tr>\n",
       "    <tr>\n",
       "      <th>...</th>\n",
       "      <td>...</td>\n",
       "      <td>...</td>\n",
       "    </tr>\n",
       "    <tr>\n",
       "      <th>100168</th>\n",
       "      <td>99996</td>\n",
       "      <td>Chicago</td>\n",
       "    </tr>\n",
       "    <tr>\n",
       "      <th>100169</th>\n",
       "      <td>99997</td>\n",
       "      <td>New York</td>\n",
       "    </tr>\n",
       "    <tr>\n",
       "      <th>100170</th>\n",
       "      <td>99998</td>\n",
       "      <td>San Diego</td>\n",
       "    </tr>\n",
       "    <tr>\n",
       "      <th>100171</th>\n",
       "      <td>99999</td>\n",
       "      <td>Chicago</td>\n",
       "    </tr>\n",
       "    <tr>\n",
       "      <th>100172</th>\n",
       "      <td>100000</td>\n",
       "      <td>Dallas</td>\n",
       "    </tr>\n",
       "  </tbody>\n",
       "</table>\n",
       "<p>100173 rows × 2 columns</p>\n",
       "</div>"
      ],
      "text/plain": [
       "        acct_id        region\n",
       "0             1      New York\n",
       "1             2        Dallas\n",
       "2             3   Los Angeles\n",
       "3             4       Chicago\n",
       "4             5  Philadelphia\n",
       "...         ...           ...\n",
       "100168    99996       Chicago\n",
       "100169    99997      New York\n",
       "100170    99998     San Diego\n",
       "100171    99999       Chicago\n",
       "100172   100000        Dallas\n",
       "\n",
       "[100173 rows x 2 columns]"
      ]
     },
     "execution_count": 6,
     "metadata": {},
     "output_type": "execute_result"
    }
   ],
   "source": [
    "df_1"
   ]
  },
  {
   "cell_type": "code",
   "execution_count": 9,
   "id": "555f14e7",
   "metadata": {},
   "outputs": [],
   "source": [
    "df_2=pd.read_csv('fico.csv').drop('acct_id',axis=1)"
   ]
  },
  {
   "cell_type": "code",
   "execution_count": 11,
   "id": "5d19461f",
   "metadata": {},
   "outputs": [],
   "source": [
    "df_final=pd.concat((df_1,df_2),axis=1)"
   ]
  },
  {
   "cell_type": "code",
   "execution_count": 12,
   "id": "b9bfec39",
   "metadata": {},
   "outputs": [],
   "source": [
    "df_final_new=df_final.copy()"
   ]
  },
  {
   "cell_type": "code",
   "execution_count": 13,
   "id": "f7509efd",
   "metadata": {},
   "outputs": [
    {
     "data": {
      "text/html": [
       "<div>\n",
       "<style scoped>\n",
       "    .dataframe tbody tr th:only-of-type {\n",
       "        vertical-align: middle;\n",
       "    }\n",
       "\n",
       "    .dataframe tbody tr th {\n",
       "        vertical-align: top;\n",
       "    }\n",
       "\n",
       "    .dataframe thead th {\n",
       "        text-align: right;\n",
       "    }\n",
       "</style>\n",
       "<table border=\"1\" class=\"dataframe\">\n",
       "  <thead>\n",
       "    <tr style=\"text-align: right;\">\n",
       "      <th></th>\n",
       "      <th>acct_id</th>\n",
       "      <th>region</th>\n",
       "      <th>FICO</th>\n",
       "    </tr>\n",
       "  </thead>\n",
       "  <tbody>\n",
       "    <tr>\n",
       "      <th>0</th>\n",
       "      <td>1</td>\n",
       "      <td>New York</td>\n",
       "      <td>768</td>\n",
       "    </tr>\n",
       "    <tr>\n",
       "      <th>1</th>\n",
       "      <td>2</td>\n",
       "      <td>Dallas</td>\n",
       "      <td>850</td>\n",
       "    </tr>\n",
       "    <tr>\n",
       "      <th>2</th>\n",
       "      <td>3</td>\n",
       "      <td>Los Angeles</td>\n",
       "      <td>677</td>\n",
       "    </tr>\n",
       "    <tr>\n",
       "      <th>3</th>\n",
       "      <td>4</td>\n",
       "      <td>Chicago</td>\n",
       "      <td>843</td>\n",
       "    </tr>\n",
       "    <tr>\n",
       "      <th>4</th>\n",
       "      <td>5</td>\n",
       "      <td>Philadelphia</td>\n",
       "      <td>796</td>\n",
       "    </tr>\n",
       "    <tr>\n",
       "      <th>...</th>\n",
       "      <td>...</td>\n",
       "      <td>...</td>\n",
       "      <td>...</td>\n",
       "    </tr>\n",
       "    <tr>\n",
       "      <th>100168</th>\n",
       "      <td>99996</td>\n",
       "      <td>Chicago</td>\n",
       "      <td>NaN</td>\n",
       "    </tr>\n",
       "    <tr>\n",
       "      <th>100169</th>\n",
       "      <td>99997</td>\n",
       "      <td>New York</td>\n",
       "      <td>NaN</td>\n",
       "    </tr>\n",
       "    <tr>\n",
       "      <th>100170</th>\n",
       "      <td>99998</td>\n",
       "      <td>San Diego</td>\n",
       "      <td>NaN</td>\n",
       "    </tr>\n",
       "    <tr>\n",
       "      <th>100171</th>\n",
       "      <td>99999</td>\n",
       "      <td>Chicago</td>\n",
       "      <td>NaN</td>\n",
       "    </tr>\n",
       "    <tr>\n",
       "      <th>100172</th>\n",
       "      <td>100000</td>\n",
       "      <td>Dallas</td>\n",
       "      <td>NaN</td>\n",
       "    </tr>\n",
       "  </tbody>\n",
       "</table>\n",
       "<p>100173 rows × 3 columns</p>\n",
       "</div>"
      ],
      "text/plain": [
       "        acct_id        region FICO\n",
       "0             1      New York  768\n",
       "1             2        Dallas  850\n",
       "2             3   Los Angeles  677\n",
       "3             4       Chicago  843\n",
       "4             5  Philadelphia  796\n",
       "...         ...           ...  ...\n",
       "100168    99996       Chicago  NaN\n",
       "100169    99997      New York  NaN\n",
       "100170    99998     San Diego  NaN\n",
       "100171    99999       Chicago  NaN\n",
       "100172   100000        Dallas  NaN\n",
       "\n",
       "[100173 rows x 3 columns]"
      ]
     },
     "execution_count": 13,
     "metadata": {},
     "output_type": "execute_result"
    }
   ],
   "source": [
    "df_final_new"
   ]
  },
  {
   "cell_type": "code",
   "execution_count": 20,
   "id": "54c3d0f0",
   "metadata": {
    "scrolled": true
   },
   "outputs": [
    {
     "name": "stdout",
     "output_type": "stream",
     "text": [
      "<class 'pandas.core.frame.DataFrame'>\n",
      "RangeIndex: 100173 entries, 0 to 100172\n",
      "Data columns (total 3 columns):\n",
      " #   Column   Non-Null Count   Dtype \n",
      "---  ------   --------------   ----- \n",
      " 0   acct_id  100173 non-null  int64 \n",
      " 1   region   100173 non-null  object\n",
      " 2   FICO     70398 non-null   object\n",
      "dtypes: int64(1), object(2)\n",
      "memory usage: 2.3+ MB\n"
     ]
    }
   ],
   "source": [
    "df_final_new.info()"
   ]
  },
  {
   "cell_type": "markdown",
   "id": "3fd93e0a",
   "metadata": {},
   "source": [
    "CONVERTING USELESS VALUES INTO NONE"
   ]
  },
  {
   "cell_type": "code",
   "execution_count": 21,
   "id": "ec2dd8c9",
   "metadata": {},
   "outputs": [],
   "source": [
    "def filter_for_min_max(num):\n",
    "    try:\n",
    "        int(num)\n",
    "        return num\n",
    "        \n",
    "    except:\n",
    "        return None\n",
    "        "
   ]
  },
  {
   "cell_type": "code",
   "execution_count": 27,
   "id": "6fd4af81",
   "metadata": {},
   "outputs": [],
   "source": [
    "df_final_new=df_final_new[df_final_new['FICO'].apply(filter_for_min_max).notnull()]"
   ]
  },
  {
   "cell_type": "markdown",
   "id": "10889f4a",
   "metadata": {},
   "source": [
    "CONVERTING FICO SCORE TO INT"
   ]
  },
  {
   "cell_type": "code",
   "execution_count": 30,
   "id": "16a1c33f",
   "metadata": {},
   "outputs": [
    {
     "name": "stderr",
     "output_type": "stream",
     "text": [
      "C:\\Users\\hp\\AppData\\Local\\Temp/ipykernel_11268/3738600947.py:1: SettingWithCopyWarning: \n",
      "A value is trying to be set on a copy of a slice from a DataFrame.\n",
      "Try using .loc[row_indexer,col_indexer] = value instead\n",
      "\n",
      "See the caveats in the documentation: https://pandas.pydata.org/pandas-docs/stable/user_guide/indexing.html#returning-a-view-versus-a-copy\n",
      "  df_final_new['FICO']=df_final_new['FICO'].astype(int)\n"
     ]
    }
   ],
   "source": [
    "df_final_new['FICO']=df_final_new['FICO'].astype(int)"
   ]
  },
  {
   "cell_type": "code",
   "execution_count": 32,
   "id": "e3eb3d02",
   "metadata": {},
   "outputs": [
    {
     "name": "stdout",
     "output_type": "stream",
     "text": [
      "<class 'pandas.core.frame.DataFrame'>\n",
      "Int64Index: 70396 entries, 0 to 100004\n",
      "Data columns (total 3 columns):\n",
      " #   Column   Non-Null Count  Dtype \n",
      "---  ------   --------------  ----- \n",
      " 0   acct_id  70396 non-null  int64 \n",
      " 1   region   70396 non-null  object\n",
      " 2   FICO     70396 non-null  int32 \n",
      "dtypes: int32(1), int64(1), object(1)\n",
      "memory usage: 1.9+ MB\n"
     ]
    }
   ],
   "source": [
    "df_final_new.info()"
   ]
  },
  {
   "cell_type": "code",
   "execution_count": 38,
   "id": "a7686cf6",
   "metadata": {},
   "outputs": [
    {
     "data": {
      "text/html": [
       "<div>\n",
       "<style scoped>\n",
       "    .dataframe tbody tr th:only-of-type {\n",
       "        vertical-align: middle;\n",
       "    }\n",
       "\n",
       "    .dataframe tbody tr th {\n",
       "        vertical-align: top;\n",
       "    }\n",
       "\n",
       "    .dataframe thead th {\n",
       "        text-align: right;\n",
       "    }\n",
       "</style>\n",
       "<table border=\"1\" class=\"dataframe\">\n",
       "  <thead>\n",
       "    <tr style=\"text-align: right;\">\n",
       "      <th></th>\n",
       "      <th>FICO</th>\n",
       "    </tr>\n",
       "    <tr>\n",
       "      <th>region</th>\n",
       "      <th></th>\n",
       "    </tr>\n",
       "  </thead>\n",
       "  <tbody>\n",
       "    <tr>\n",
       "      <th>San Antonio</th>\n",
       "      <td>784.534652</td>\n",
       "    </tr>\n",
       "  </tbody>\n",
       "</table>\n",
       "</div>"
      ],
      "text/plain": [
       "                   FICO\n",
       "region                 \n",
       "San Antonio  784.534652"
      ]
     },
     "execution_count": 38,
     "metadata": {},
     "output_type": "execute_result"
    }
   ],
   "source": [
    "pd.DataFrame(df_final_new.groupby('region')['FICO'].mean()).sort_values(by=['FICO']).head(1)"
   ]
  },
  {
   "cell_type": "code",
   "execution_count": 42,
   "id": "6fe08b38",
   "metadata": {},
   "outputs": [
    {
     "data": {
      "text/plain": [
       "FICO    786.515207\n",
       "Name: Charlotte, dtype: float64"
      ]
     },
     "execution_count": 42,
     "metadata": {},
     "output_type": "execute_result"
    }
   ],
   "source": [
    "pd.DataFrame(df_final_new.groupby('region')['FICO'].mean()).sort_values(by=['FICO']).iloc[-2]"
   ]
  },
  {
   "cell_type": "code",
   "execution_count": null,
   "id": "1d202adc",
   "metadata": {},
   "outputs": [],
   "source": []
  }
 ],
 "metadata": {
  "kernelspec": {
   "display_name": "Python 3 (ipykernel)",
   "language": "python",
   "name": "python3"
  },
  "language_info": {
   "codemirror_mode": {
    "name": "ipython",
    "version": 3
   },
   "file_extension": ".py",
   "mimetype": "text/x-python",
   "name": "python",
   "nbconvert_exporter": "python",
   "pygments_lexer": "ipython3",
   "version": "3.9.7"
  }
 },
 "nbformat": 4,
 "nbformat_minor": 5
}
