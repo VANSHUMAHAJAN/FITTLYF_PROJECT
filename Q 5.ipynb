{
 "cells": [
  {
   "cell_type": "code",
   "execution_count": null,
   "id": "86b8bb5c",
   "metadata": {},
   "outputs": [],
   "source": [
    "def extracting_values(key):\n",
    "    my_dict={}\n",
    "    value=df[df['payload_key']==key]['payload_val']\n",
    "    list_of_values=value.split('&')\n",
    "    \n",
    "    my_dict[key]=list_of_values\n",
    "    column_name=[f'value_{i}' for i in range(1,len(list_of_values)+1)]\n",
    "    df_final=pd.DataFrame(my_dict,columns=column_name).transpose()\n",
    "    \n",
    "    df_final.to_csv('values.csv')\n",
    "    \n"
   ]
  },
  {
   "cell_type": "code",
   "execution_count": null,
   "id": "d611fba9",
   "metadata": {},
   "outputs": [],
   "source": []
  }
 ],
 "metadata": {
  "kernelspec": {
   "display_name": "Python 3 (ipykernel)",
   "language": "python",
   "name": "python3"
  },
  "language_info": {
   "codemirror_mode": {
    "name": "ipython",
    "version": 3
   },
   "file_extension": ".py",
   "mimetype": "text/x-python",
   "name": "python",
   "nbconvert_exporter": "python",
   "pygments_lexer": "ipython3",
   "version": "3.9.7"
  }
 },
 "nbformat": 4,
 "nbformat_minor": 5
}
